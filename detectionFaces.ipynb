{
 "cells": [
  {
   "cell_type": "code",
   "execution_count": 16,
   "metadata": {},
   "outputs": [],
   "source": [
    "import cv2\n",
    "import tensorflow as tf\n",
    "from tensorflow import keras\n",
    "from PIL import Image\n",
    "import os\n",
    "import cv2.data\n",
    "from tensorflow.keras.preprocessing.image import ImageDataGenerator"
   ]
  },
  {
   "cell_type": "markdown",
   "metadata": {},
   "source": [
    "Capture faces and put in another folder"
   ]
  },
  {
   "cell_type": "code",
   "execution_count": 17,
   "metadata": {},
   "outputs": [],
   "source": [
    "train_dir = 'data/train'\n",
    "face_cascade = cv2.CascadeClassifier('.venv/Lib/site-packages/cv2/data/haarcascade_frontalface_default.xml')\n",
    "\n",
    "for name in os.listdir(train_dir):\n",
    "    path_class = train_dir+'/'+name\n",
    "    for photo_name in os.listdir(path_class):\n",
    "        path_name_class = path_class+'/'+photo_name\n",
    "        image = cv2.imread(path_name_class)\n",
    "        gray = cv2.cvtColor(image,cv2.COLOR_BGR2GRAY)\n",
    "        faces = face_cascade.detectMultiScale(gray,scaleFactor=1.1,minNeighbors=4,minSize=(50,50))\n",
    "        for i,(x,y,w,h) in enumerate(faces):\n",
    "            Y = y+h\n",
    "            X = x+w\n",
    "            face = image[y:Y,x:X]\n",
    "            face_resized = cv2.resize(face,(128,128))\n",
    "            face_filename = f\"data/train_faces/{name}/{photo_name}\"\n",
    "            face_filename_valid = f\"data/valid/{name}/{photo_name}\"\n",
    "            cv2.imwrite(face_filename,face_resized)\n",
    "            cv2.imwrite(face_filename_valid,face_resized)"
   ]
  },
  {
   "cell_type": "code",
   "execution_count": null,
   "metadata": {},
   "outputs": [],
   "source": []
  }
 ],
 "metadata": {
  "kernelspec": {
   "display_name": ".venv",
   "language": "python",
   "name": "python3"
  },
  "language_info": {
   "codemirror_mode": {
    "name": "ipython",
    "version": 3
   },
   "file_extension": ".py",
   "mimetype": "text/x-python",
   "name": "python",
   "nbconvert_exporter": "python",
   "pygments_lexer": "ipython3",
   "version": "3.12.8"
  }
 },
 "nbformat": 4,
 "nbformat_minor": 2
}
